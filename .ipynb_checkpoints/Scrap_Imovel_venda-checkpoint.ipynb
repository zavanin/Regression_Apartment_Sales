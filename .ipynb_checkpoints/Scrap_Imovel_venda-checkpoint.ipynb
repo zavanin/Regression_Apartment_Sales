{
 "cells": [
  {
   "cell_type": "markdown",
   "metadata": {
    "colab_type": "text",
    "id": "view-in-github"
   },
   "source": [
    "<a href=\"https://colab.research.google.com/github/silviolima07/Regression_Apartment_Sales/blob/master/Scrap_Imovel_venda.ipynb\" target=\"_parent\"><img src=\"https://colab.research.google.com/assets/colab-badge.svg\" alt=\"Open In Colab\"/></a>"
   ]
  },
  {
   "cell_type": "markdown",
   "metadata": {
    "colab_type": "text",
    "id": "qSYlo6TAj_fK"
   },
   "source": [
    "# Scrap de informações de venda de apartamentos\n",
    "### Foram coletadas 4k anúncios a partir da busca em 2k páginas\n",
    "### A busca foi executada separadamente para cada item\n",
    "### Pois ao tentar trazer todas simultaneamente, o número\n",
    "### de linhas por item era 19 e não 20, o valor correto.\n",
    "### Executando a função para cada item, o processo foi ok."
   ]
  },
  {
   "cell_type": "markdown",
   "metadata": {
    "colab_type": "text",
    "id": "VJFqadc-oufA"
   },
   "source": [
    "![alt text](https://drive.google.com/uc?id=1zzEO05kcvFo7dS1oeBVVGg_Ze4By3dCC)"
   ]
  },
  {
   "cell_type": "code",
   "execution_count": null,
   "metadata": {
    "colab": {},
    "colab_type": "code",
    "id": "Hv_TEo3yw5l2"
   },
   "outputs": [],
   "source": [
    "# !pip install bs4 -U"
   ]
  },
  {
   "cell_type": "code",
   "execution_count": 2,
   "metadata": {
    "colab": {},
    "colab_type": "code",
    "id": "e56kzwGSvOdb"
   },
   "outputs": [],
   "source": [
    "from bs4 import BeautifulSoup as bs\n",
    "import requests\n",
    "import re\n",
    "\n"
   ]
  },
  {
   "cell_type": "code",
   "execution_count": 3,
   "metadata": {
    "colab": {},
    "colab_type": "code",
    "id": "ocZ9_kokczZ_"
   },
   "outputs": [],
   "source": [
    "# Esta função ira efetuar a pesquisa nas páginas indicadas pela url onde os anúncios estão disponíveis.\n",
    "# É adicionado o número da página e a pesquisa é refeita, assim posso pesquisar desde 1 até o valor que se deseje.\n",
    "# De cada página é feito o parser e seu conteúdo pode então ser usado para buscar padrões.\n",
    "# A busca de padrões foi feita com expressões regulares.\n",
    "# Primeiro identifica-se através de um inspect no browse a informação deseja e a classe mais próxima onde está localizada.\n",
    "# Depois disso vai se filtrando e ajustando a expressão regular até conseguir identificar um padrão que pode ser usado na extração.\n",
    "#\n",
    "def scrap_imovel_web(n):\n",
    "    print(\"Pagina:\",n)\n",
    "\n",
    "    url_page = 'https://www.imovelweb.com.br/apartamentos-venda-sao-paulo-sp-mais-de-1-banheiro-mais-de-1-vaga-de-10-a-20-anos-pagina'\n",
    "\n",
    "    print(url_page+'-'+str(n)+'.html')\n",
    "    scrap = requests.get(url_page+'-'+str(n)+'.html')\n",
    "    soup = bs(scrap.content, 'html.parser')\n",
    "\n",
    "    # Classes localizadas através do inspect feito através do browse da página\n",
    "    class_main_features = soup.find_all(class_ = \"main-features\")\n",
    "    class_posting_location = soup.find_all('span',class_ = \"posting-location go-to-posting\")\n",
    "    class_first_price = soup.find_all(class_ = \"first-price\")\n",
    "\n",
    "    tag_features = class_main_features\n",
    "    tag_location = class_posting_location\n",
    "    tag_price = class_first_price\n",
    "\n",
    "    # Através de testes foram identificados os seguintes padrões para extração das informações desejadas em cada página\n",
    "    pattern_qto = '[1-90-9 ]*Q[a-z]*' # Quarto ok\n",
    "\n",
    "    pattern_vaga = '[0-9 ]*V[a-z]+' # Vagas ok\n",
    "\n",
    "    pattern_area = '[0-9][0-9]*[ ]m²[ áa-zú]*' # area util ok        url[0][0:16] = area total  url[1][0:16] = area util\n",
    "\n",
    "    pattern_banheiro = '[0-90-9]* B[a-z]+' # Banheiro ok\n",
    "\n",
    "    pattern_endereco = '<span>[ :alnum:]+[ [íÍáiÓêA-Za-zaúçíéôáãa-zoiÍ]*' # endereço ok\n",
    "\n",
    "    # Aplicação das expressões regulares para trazer as linhas com informações em cada página pesquisa\n",
    "    # Cada página tinha 20 linhas de cada informação, esse valor deve ser igual pra todos items.\n",
    "    quarto = re.findall(pattern_qto, str(tag_features))\n",
    "    vaga = re.findall(pattern_vaga, str(tag_features))\n",
    "    banheiro = re.findall(pattern_banheiro, str(tag_features))\n",
    "    area = re.findall(pattern_area, str(tag_features))\n",
    "    endereco = re.findall(pattern_endereco, str(tag_location))\n",
    "\n",
    "    #################################################################################################\n",
    "\n",
    "    # A informação price, precisou de duas etapas, por isso possui dois padrões para aplicação das expressões regulares\n",
    "    pattern_temp = 'data-price=[\"R[$ 0-9.]*'  # mostrar price ok\n",
    "    pattern = 'R[$ 0-9.]*'\n",
    "\n",
    "    temp = re.findall(pattern_temp, str(tag_price)) \n",
    "    price = re.findall(pattern, str(temp))\n",
    "\n",
    "    #################################################################################################\n",
    "\n",
    "    # Pode-se aplicar a função e trazer todas informações de uma vez ou separadamente, comentando a linha do return e deixando\n",
    "    # apenas a variável desejada. Foi feito dessa forma, para garantir que todas viessem em número de 20 por página.\n",
    "    # Nas tentativas de trazer todas juntas de uma vez, em alguns momentos, vinha 19 para algumas e isso não permitia a criação do\n",
    "    # dataset final com todas informações agrupadas por página pesquisada\n",
    "    print(\"Concluido\")\n",
    "    # banheiro, quarto, vaga , endereco, price , area\n",
    "    # out1       out2   out3   out4      out5    out6\n",
    "    return  banheiro #, quarto, vaga , endereco, price , area\n",
    "\n",
    "  \n",
    "\n"
   ]
  },
  {
   "cell_type": "markdown",
   "metadata": {
    "colab_type": "text",
    "id": "ioIOnoxqTXYT"
   },
   "source": [
    "## Identificar os elementos de cada página\n",
    "### - Visualizar cada página onde foi feito o html.parser antes de preparar as expressões regulares\n",
    "### - Buscar a informação desejada\n",
    "### - Gerar as expressões regulares pra extrair informações"
   ]
  },
  {
   "cell_type": "code",
   "execution_count": 4,
   "metadata": {
    "colab": {
     "base_uri": "https://localhost:8080/",
     "height": 364
    },
    "colab_type": "code",
    "id": "Ynh3KYXsrQSo",
    "outputId": "5c1f50e7-0fc3-45a9-ff2f-4ea77619d79a"
   },
   "outputs": [
    {
     "data": {
      "text/plain": [
       "[]"
      ]
     },
     "execution_count": 4,
     "metadata": {},
     "output_type": "execute_result"
    }
   ],
   "source": [
    "# Padrões de busca\n",
    "# Fase de Teste de busca\n",
    "# Esta fase é feita antes da função final do scrap\n",
    "# Aqui busca-se a expressão regular que será aplicada em cada página\n",
    "\n",
    "url_page = 'https://www.imovelweb.com.br/apartamentos-venda-sao-paulo-sp-de-10-a-20-anos-pagina-2.html' # página2\n",
    "#url_page = 'https://www.imovelweb.com.br/apartamentos-venda-sao-paulo-sp-de-10-a-20-anos.html'         # página1\n",
    "\n",
    "scrap = requests.get(url_page)\n",
    "soup = bs(scrap.content, 'html.parser')\n",
    "\n",
    "class_main_features = soup.find_all(class_ = \"main-features\")\n",
    "class_posting_location = soup.find_all('span',class_ = \"posting-location go-to-posting\")\n",
    "class_first_price = soup.find_all(class_ = \"first-price\")\n",
    "\n",
    "# Fazer um print de cada tag pra visualizar conteúdo encontrada quando fez o inspect no browse da página\n",
    "tag_features = class_main_features\n",
    "tag_location = class_posting_location\n",
    "tag_price = class_first_price\n",
    "\n",
    "#pattern = '[RV][a-z][ \"<>ía-zA-Z,0-9ã]*'# class_posting_location ok\n",
    "#pattern = 'R[$ 0-9.]*'  # mostrar price ok\n",
    "pattern = '<b>[ a-zA-Z0-9]*'  # \n",
    "\n",
    "\n",
    "pattern = '[0-9][0-9][ ]m²[ áa-zú]*'# area util e total ok\n",
    "pattern = '[0-9 ] Q[a-z]*' # Quarto ok\n",
    "pattern = '[0-9 ] V[a-z]*' # Vagas ok\n",
    "pattern = '[0-90-9]* B[a-z]+'# ok Banheiro\n",
    "pattern = '[0-90-90-9]* m' # area total e area util\n",
    "pattern = '[0-9][0-9][ ]m²[ área total]+'# area total ok\n",
    "pattern = '[0-9][0-9]*[ ]m²[ áa-zú]*'# area util ok        url[0][0:16] = area total  url[1][0:16] = area util\n",
    "\n",
    "#pattern = '<span>[ A-Z][ ía-zA-Z,ã]+'# bairro ok\n",
    "\n",
    "#pattern = '[AVR]+[ -ÃãA-Z,0-9]*'# local\n",
    "\n",
    "\n",
    "\n",
    "#pattern = '<span>[ A-Z][ôa-z.A-Z][ \"<>ÍíéÉáa-zA-Z,0-9ÇçÃã]*'\n",
    "\n",
    "#pattern_temp = 'data-price=[\"R[$ 0-9.]*'  # mostrar price ok\n",
    "\n",
    "#pattern = 'R[$ 0-9.]*'\n",
    "\n",
    "#pattern = '[0-90-9]* B[a-z]+'# ok Banheiro\n",
    "#<li><b>1 Banheiro</b></li>\n",
    "\n",
    "#pattern = '*[0-9 ] Vaga*' # Vagas ok\n",
    "#pattern = '[0-9 ]*V[a-z]+'\n",
    "#pattern2 = '[0-9 a-zA-Z\\']+'\n",
    "pattern = '[RV][a-z][ \"<>íáa-zA-Z,0-9ã]+'# class_posting_location ok\n",
    "pattern = '<span>[ :alnum:]+[ [íÍáiÓêA-Za-zaúçíéôáãa-zoiÍ]*'# class_posting_location ok\n",
    "#pattern = '[A-Z][:alnum:]+[ÍáiÓêA-Za-zaúçíéôáãa-zoi,Í]*'\n",
    "#temp = re.findall(pattern_temp, str(tag_price)) \n",
    "\n",
    "pattern = '[1-90-9 ]*Q[a-z]*' # Quarto ok\n",
    "\n",
    "url = re.findall(pattern, str(tag_features)) \n",
    "url"
   ]
  },
  {
   "cell_type": "markdown",
   "metadata": {
    "colab_type": "text",
    "id": "kcQYkUUxZqX2"
   },
   "source": [
    "## Teste do scrap de uma página"
   ]
  },
  {
   "cell_type": "code",
   "execution_count": 5,
   "metadata": {
    "colab": {
     "base_uri": "https://localhost:8080/",
     "height": 1000
    },
    "colab_type": "code",
    "id": "ChQTVzd0iy-9",
    "outputId": "3cd0cabd-5fd5-4a10-c85b-3775277e1f79"
   },
   "outputs": [
    {
     "name": "stdout",
     "output_type": "stream",
     "text": [
      "Pagina: 1\n",
      "https://www.imovelweb.com.br/apartamentos-venda-sao-paulo-sp-mais-de-1-banheiro-mais-de-1-vaga-de-10-a-20-anos-pagina-1.html\n",
      "Concluido\n",
      " banheiro: 0\n",
      "Pagina: 2\n",
      "https://www.imovelweb.com.br/apartamentos-venda-sao-paulo-sp-mais-de-1-banheiro-mais-de-1-vaga-de-10-a-20-anos-pagina-2.html\n",
      "Concluido\n",
      " banheiro: 0\n",
      "Pagina: 3\n",
      "https://www.imovelweb.com.br/apartamentos-venda-sao-paulo-sp-mais-de-1-banheiro-mais-de-1-vaga-de-10-a-20-anos-pagina-3.html\n",
      "Concluido\n",
      " banheiro: 0\n",
      "Pagina: 4\n",
      "https://www.imovelweb.com.br/apartamentos-venda-sao-paulo-sp-mais-de-1-banheiro-mais-de-1-vaga-de-10-a-20-anos-pagina-4.html\n",
      "Concluido\n",
      " banheiro: 0\n",
      "Pagina: 5\n",
      "https://www.imovelweb.com.br/apartamentos-venda-sao-paulo-sp-mais-de-1-banheiro-mais-de-1-vaga-de-10-a-20-anos-pagina-5.html\n",
      "Concluido\n",
      " banheiro: 0\n",
      "Pagina: 6\n",
      "https://www.imovelweb.com.br/apartamentos-venda-sao-paulo-sp-mais-de-1-banheiro-mais-de-1-vaga-de-10-a-20-anos-pagina-6.html\n",
      "Concluido\n",
      " banheiro: 0\n",
      "Pagina: 7\n",
      "https://www.imovelweb.com.br/apartamentos-venda-sao-paulo-sp-mais-de-1-banheiro-mais-de-1-vaga-de-10-a-20-anos-pagina-7.html\n",
      "Concluido\n",
      " banheiro: 0\n",
      "Pagina: 8\n",
      "https://www.imovelweb.com.br/apartamentos-venda-sao-paulo-sp-mais-de-1-banheiro-mais-de-1-vaga-de-10-a-20-anos-pagina-8.html\n",
      "Concluido\n",
      " banheiro: 0\n",
      "Pagina: 9\n",
      "https://www.imovelweb.com.br/apartamentos-venda-sao-paulo-sp-mais-de-1-banheiro-mais-de-1-vaga-de-10-a-20-anos-pagina-9.html\n",
      "Concluido\n",
      " banheiro: 0\n",
      "Pagina: 10\n",
      "https://www.imovelweb.com.br/apartamentos-venda-sao-paulo-sp-mais-de-1-banheiro-mais-de-1-vaga-de-10-a-20-anos-pagina-10.html\n",
      "Concluido\n",
      " banheiro: 0\n",
      "Pagina: 11\n",
      "https://www.imovelweb.com.br/apartamentos-venda-sao-paulo-sp-mais-de-1-banheiro-mais-de-1-vaga-de-10-a-20-anos-pagina-11.html\n",
      "Concluido\n",
      " banheiro: 0\n",
      "Pagina: 12\n",
      "https://www.imovelweb.com.br/apartamentos-venda-sao-paulo-sp-mais-de-1-banheiro-mais-de-1-vaga-de-10-a-20-anos-pagina-12.html\n",
      "Concluido\n",
      " banheiro: 0\n",
      "Pagina: 13\n",
      "https://www.imovelweb.com.br/apartamentos-venda-sao-paulo-sp-mais-de-1-banheiro-mais-de-1-vaga-de-10-a-20-anos-pagina-13.html\n",
      "Concluido\n",
      " banheiro: 0\n",
      "Pagina: 14\n",
      "https://www.imovelweb.com.br/apartamentos-venda-sao-paulo-sp-mais-de-1-banheiro-mais-de-1-vaga-de-10-a-20-anos-pagina-14.html\n",
      "Concluido\n",
      " banheiro: 0\n",
      "Pagina: 15\n",
      "https://www.imovelweb.com.br/apartamentos-venda-sao-paulo-sp-mais-de-1-banheiro-mais-de-1-vaga-de-10-a-20-anos-pagina-15.html\n",
      "Concluido\n",
      " banheiro: 0\n",
      "Pagina: 16\n",
      "https://www.imovelweb.com.br/apartamentos-venda-sao-paulo-sp-mais-de-1-banheiro-mais-de-1-vaga-de-10-a-20-anos-pagina-16.html\n",
      "Concluido\n",
      " banheiro: 0\n",
      "Pagina: 17\n",
      "https://www.imovelweb.com.br/apartamentos-venda-sao-paulo-sp-mais-de-1-banheiro-mais-de-1-vaga-de-10-a-20-anos-pagina-17.html\n",
      "Concluido\n",
      " banheiro: 0\n",
      "Pagina: 18\n",
      "https://www.imovelweb.com.br/apartamentos-venda-sao-paulo-sp-mais-de-1-banheiro-mais-de-1-vaga-de-10-a-20-anos-pagina-18.html\n",
      "Concluido\n",
      " banheiro: 0\n",
      "Pagina: 19\n",
      "https://www.imovelweb.com.br/apartamentos-venda-sao-paulo-sp-mais-de-1-banheiro-mais-de-1-vaga-de-10-a-20-anos-pagina-19.html\n",
      "Concluido\n",
      " banheiro: 0\n",
      "Pagina: 20\n",
      "https://www.imovelweb.com.br/apartamentos-venda-sao-paulo-sp-mais-de-1-banheiro-mais-de-1-vaga-de-10-a-20-anos-pagina-20.html\n",
      "Concluido\n",
      " banheiro: 0\n",
      "Pagina: 21\n",
      "https://www.imovelweb.com.br/apartamentos-venda-sao-paulo-sp-mais-de-1-banheiro-mais-de-1-vaga-de-10-a-20-anos-pagina-21.html\n",
      "Concluido\n",
      " banheiro: 0\n",
      "Pagina: 22\n",
      "https://www.imovelweb.com.br/apartamentos-venda-sao-paulo-sp-mais-de-1-banheiro-mais-de-1-vaga-de-10-a-20-anos-pagina-22.html\n",
      "Concluido\n",
      " banheiro: 0\n",
      "Pagina: 23\n",
      "https://www.imovelweb.com.br/apartamentos-venda-sao-paulo-sp-mais-de-1-banheiro-mais-de-1-vaga-de-10-a-20-anos-pagina-23.html\n",
      "Concluido\n",
      " banheiro: 0\n",
      "Pagina: 24\n",
      "https://www.imovelweb.com.br/apartamentos-venda-sao-paulo-sp-mais-de-1-banheiro-mais-de-1-vaga-de-10-a-20-anos-pagina-24.html\n",
      "Concluido\n",
      " banheiro: 0\n",
      "Pagina: 25\n",
      "https://www.imovelweb.com.br/apartamentos-venda-sao-paulo-sp-mais-de-1-banheiro-mais-de-1-vaga-de-10-a-20-anos-pagina-25.html\n",
      "Concluido\n",
      " banheiro: 0\n",
      "Pagina: 26\n",
      "https://www.imovelweb.com.br/apartamentos-venda-sao-paulo-sp-mais-de-1-banheiro-mais-de-1-vaga-de-10-a-20-anos-pagina-26.html\n",
      "Concluido\n",
      " banheiro: 0\n",
      "Pagina: 27\n",
      "https://www.imovelweb.com.br/apartamentos-venda-sao-paulo-sp-mais-de-1-banheiro-mais-de-1-vaga-de-10-a-20-anos-pagina-27.html\n",
      "Concluido\n",
      " banheiro: 0\n",
      "Pagina: 28\n",
      "https://www.imovelweb.com.br/apartamentos-venda-sao-paulo-sp-mais-de-1-banheiro-mais-de-1-vaga-de-10-a-20-anos-pagina-28.html\n",
      "Concluido\n",
      " banheiro: 0\n",
      "Pagina: 29\n",
      "https://www.imovelweb.com.br/apartamentos-venda-sao-paulo-sp-mais-de-1-banheiro-mais-de-1-vaga-de-10-a-20-anos-pagina-29.html\n",
      "Concluido\n",
      " banheiro: 0\n",
      "Pagina: 30\n",
      "https://www.imovelweb.com.br/apartamentos-venda-sao-paulo-sp-mais-de-1-banheiro-mais-de-1-vaga-de-10-a-20-anos-pagina-30.html\n",
      "Concluido\n",
      " banheiro: 0\n",
      "Pagina: 31\n",
      "https://www.imovelweb.com.br/apartamentos-venda-sao-paulo-sp-mais-de-1-banheiro-mais-de-1-vaga-de-10-a-20-anos-pagina-31.html\n",
      "Concluido\n",
      " banheiro: 0\n",
      "Pagina: 32\n",
      "https://www.imovelweb.com.br/apartamentos-venda-sao-paulo-sp-mais-de-1-banheiro-mais-de-1-vaga-de-10-a-20-anos-pagina-32.html\n",
      "Concluido\n",
      " banheiro: 0\n",
      "Pagina: 33\n",
      "https://www.imovelweb.com.br/apartamentos-venda-sao-paulo-sp-mais-de-1-banheiro-mais-de-1-vaga-de-10-a-20-anos-pagina-33.html\n",
      "Concluido\n",
      " banheiro: 0\n",
      "Pagina: 34\n",
      "https://www.imovelweb.com.br/apartamentos-venda-sao-paulo-sp-mais-de-1-banheiro-mais-de-1-vaga-de-10-a-20-anos-pagina-34.html\n",
      "Concluido\n",
      " banheiro: 0\n",
      "Pagina: 35\n",
      "https://www.imovelweb.com.br/apartamentos-venda-sao-paulo-sp-mais-de-1-banheiro-mais-de-1-vaga-de-10-a-20-anos-pagina-35.html\n",
      "Concluido\n",
      " banheiro: 0\n",
      "Pagina: 36\n",
      "https://www.imovelweb.com.br/apartamentos-venda-sao-paulo-sp-mais-de-1-banheiro-mais-de-1-vaga-de-10-a-20-anos-pagina-36.html\n",
      "Concluido\n",
      " banheiro: 0\n",
      "Pagina: 37\n",
      "https://www.imovelweb.com.br/apartamentos-venda-sao-paulo-sp-mais-de-1-banheiro-mais-de-1-vaga-de-10-a-20-anos-pagina-37.html\n",
      "Concluido\n",
      " banheiro: 0\n",
      "Pagina: 38\n",
      "https://www.imovelweb.com.br/apartamentos-venda-sao-paulo-sp-mais-de-1-banheiro-mais-de-1-vaga-de-10-a-20-anos-pagina-38.html\n",
      "Concluido\n",
      " banheiro: 0\n",
      "Pagina: 39\n",
      "https://www.imovelweb.com.br/apartamentos-venda-sao-paulo-sp-mais-de-1-banheiro-mais-de-1-vaga-de-10-a-20-anos-pagina-39.html\n",
      "Concluido\n",
      " banheiro: 0\n",
      "Pagina: 40\n",
      "https://www.imovelweb.com.br/apartamentos-venda-sao-paulo-sp-mais-de-1-banheiro-mais-de-1-vaga-de-10-a-20-anos-pagina-40.html\n",
      "Concluido\n",
      " banheiro: 0\n",
      "Pagina: 41\n",
      "https://www.imovelweb.com.br/apartamentos-venda-sao-paulo-sp-mais-de-1-banheiro-mais-de-1-vaga-de-10-a-20-anos-pagina-41.html\n",
      "Concluido\n",
      " banheiro: 0\n",
      "Pagina: 42\n",
      "https://www.imovelweb.com.br/apartamentos-venda-sao-paulo-sp-mais-de-1-banheiro-mais-de-1-vaga-de-10-a-20-anos-pagina-42.html\n",
      "Concluido\n",
      " banheiro: 0\n",
      "Pagina: 43\n",
      "https://www.imovelweb.com.br/apartamentos-venda-sao-paulo-sp-mais-de-1-banheiro-mais-de-1-vaga-de-10-a-20-anos-pagina-43.html\n",
      "Concluido\n",
      " banheiro: 0\n",
      "Pagina: 44\n",
      "https://www.imovelweb.com.br/apartamentos-venda-sao-paulo-sp-mais-de-1-banheiro-mais-de-1-vaga-de-10-a-20-anos-pagina-44.html\n",
      "Concluido\n",
      " banheiro: 0\n",
      "Pagina: 45\n",
      "https://www.imovelweb.com.br/apartamentos-venda-sao-paulo-sp-mais-de-1-banheiro-mais-de-1-vaga-de-10-a-20-anos-pagina-45.html\n",
      "Concluido\n",
      " banheiro: 0\n",
      "Pagina: 46\n",
      "https://www.imovelweb.com.br/apartamentos-venda-sao-paulo-sp-mais-de-1-banheiro-mais-de-1-vaga-de-10-a-20-anos-pagina-46.html\n",
      "Concluido\n",
      " banheiro: 0\n",
      "Pagina: 47\n",
      "https://www.imovelweb.com.br/apartamentos-venda-sao-paulo-sp-mais-de-1-banheiro-mais-de-1-vaga-de-10-a-20-anos-pagina-47.html\n",
      "Concluido\n",
      " banheiro: 0\n",
      "Pagina: 48\n",
      "https://www.imovelweb.com.br/apartamentos-venda-sao-paulo-sp-mais-de-1-banheiro-mais-de-1-vaga-de-10-a-20-anos-pagina-48.html\n",
      "Concluido\n",
      " banheiro: 0\n",
      "Pagina: 49\n",
      "https://www.imovelweb.com.br/apartamentos-venda-sao-paulo-sp-mais-de-1-banheiro-mais-de-1-vaga-de-10-a-20-anos-pagina-49.html\n",
      "Concluido\n",
      " banheiro: 0\n",
      "Pagina: 50\n",
      "https://www.imovelweb.com.br/apartamentos-venda-sao-paulo-sp-mais-de-1-banheiro-mais-de-1-vaga-de-10-a-20-anos-pagina-50.html\n",
      "Concluido\n",
      " banheiro: 0\n"
     ]
    }
   ],
   "source": [
    "# Fazer o scrap nas paginas de 1 a 50\n",
    "banheiro_1_50 = []\n",
    "for i in range(1,51):\n",
    "    out  = scrap_imovel_web(i)\n",
    "    print(\" banheiro:\", len(out))\n",
    "    if len(out) == 19:            # Toda página deve trazer 20 linhas de informações sobre banheiro\n",
    "        print(out)                # Caso o valor seja 19, interromper o scrap\n",
    "        exit  \n",
    "    banheiro_1_50.append((out,i))\n"
   ]
  },
  {
   "cell_type": "code",
   "execution_count": 6,
   "metadata": {
    "colab": {
     "base_uri": "https://localhost:8080/",
     "height": 34
    },
    "colab_type": "code",
    "id": "F_ZITABFuOLq",
    "outputId": "39411359-4e47-41b4-f662-9ade66bd5cef"
   },
   "outputs": [
    {
     "data": {
      "text/plain": [
       "50"
      ]
     },
     "execution_count": 6,
     "metadata": {},
     "output_type": "execute_result"
    }
   ],
   "source": [
    "len(banheiro_1_50)"
   ]
  },
  {
   "cell_type": "code",
   "execution_count": 7,
   "metadata": {
    "colab": {
     "base_uri": "https://localhost:8080/",
     "height": 1000
    },
    "colab_type": "code",
    "id": "JW65hDlMsNMi",
    "outputId": "1f0bb2a0-2184-4405-a282-41ce75f23ad8"
   },
   "outputs": [
    {
     "data": {
      "text/plain": [
       "[([], 1),\n",
       " ([], 2),\n",
       " ([], 3),\n",
       " ([], 4),\n",
       " ([], 5),\n",
       " ([], 6),\n",
       " ([], 7),\n",
       " ([], 8),\n",
       " ([], 9),\n",
       " ([], 10),\n",
       " ([], 11),\n",
       " ([], 12),\n",
       " ([], 13),\n",
       " ([], 14),\n",
       " ([], 15),\n",
       " ([], 16),\n",
       " ([], 17),\n",
       " ([], 18),\n",
       " ([], 19),\n",
       " ([], 20),\n",
       " ([], 21),\n",
       " ([], 22),\n",
       " ([], 23),\n",
       " ([], 24),\n",
       " ([], 25),\n",
       " ([], 26),\n",
       " ([], 27),\n",
       " ([], 28),\n",
       " ([], 29),\n",
       " ([], 30),\n",
       " ([], 31),\n",
       " ([], 32),\n",
       " ([], 33),\n",
       " ([], 34),\n",
       " ([], 35),\n",
       " ([], 36),\n",
       " ([], 37),\n",
       " ([], 38),\n",
       " ([], 39),\n",
       " ([], 40),\n",
       " ([], 41),\n",
       " ([], 42),\n",
       " ([], 43),\n",
       " ([], 44),\n",
       " ([], 45),\n",
       " ([], 46),\n",
       " ([], 47),\n",
       " ([], 48),\n",
       " ([], 49),\n",
       " ([], 50)]"
      ]
     },
     "execution_count": 7,
     "metadata": {},
     "output_type": "execute_result"
    }
   ],
   "source": [
    "banheiro_1_50\n"
   ]
  },
  {
   "cell_type": "markdown",
   "metadata": {
    "colab_type": "text",
    "id": "P3kx_Xtaaep8"
   },
   "source": [
    "## Coletar informações das páginas do site\n",
    "### Estes comandos foram executados gerando o scrap de um item apenas, comentando-se os demais itens na chamada da função:\n",
    "### out1 = scrap_imovel_web(page)"
   ]
  },
  {
   "cell_type": "code",
   "execution_count": 8,
   "metadata": {
    "colab": {
     "base_uri": "https://localhost:8080/",
     "height": 1000
    },
    "colab_type": "code",
    "id": "-sl5R-wGMkPA",
    "outputId": "7a1503a2-eca8-4cc0-d74d-f7c0f55bd914"
   },
   "outputs": [
    {
     "name": "stdout",
     "output_type": "stream",
     "text": [
      "Pagina: 1\n",
      "https://www.imovelweb.com.br/apartamentos-venda-sao-paulo-sp-mais-de-1-banheiro-mais-de-1-vaga-de-10-a-20-anos-pagina-1.html\n",
      "Concluido\n"
     ]
    },
    {
     "ename": "IndexError",
     "evalue": "list index out of range",
     "output_type": "error",
     "traceback": [
      "\u001b[1;31m---------------------------------------------------------------------------\u001b[0m",
      "\u001b[1;31mIndexError\u001b[0m                                Traceback (most recent call last)",
      "\u001b[1;32m<ipython-input-8-5613d9e6b5e5>\u001b[0m in \u001b[0;36m<module>\u001b[1;34m\u001b[0m\n\u001b[0;32m     19\u001b[0m     \u001b[1;31m# Nesse caso ja sabemos que cada página deve ter 20 itens\u001b[0m\u001b[1;33m\u001b[0m\u001b[1;33m\u001b[0m\u001b[1;33m\u001b[0m\u001b[0m\n\u001b[0;32m     20\u001b[0m     \u001b[1;32mfor\u001b[0m \u001b[0mi\u001b[0m \u001b[1;32min\u001b[0m \u001b[0mrange\u001b[0m\u001b[1;33m(\u001b[0m\u001b[1;36m20\u001b[0m\u001b[1;33m)\u001b[0m\u001b[1;33m:\u001b[0m                   \u001b[1;31m# out1, out2 e out3 se deu tudo certo, tem o mesmo tamanho, esse valor sera o range de iteração\u001b[0m\u001b[1;33m\u001b[0m\u001b[1;33m\u001b[0m\u001b[0m\n\u001b[1;32m---> 21\u001b[1;33m         \u001b[0mbanheiro\u001b[0m\u001b[1;33m.\u001b[0m\u001b[0mappend\u001b[0m\u001b[1;33m(\u001b[0m\u001b[0mout1\u001b[0m\u001b[1;33m[\u001b[0m\u001b[0mi\u001b[0m\u001b[1;33m]\u001b[0m\u001b[1;33m)\u001b[0m                 \u001b[1;31m# a lista hrefs recebera os href contido na posicao de indice 'i' na lista out1\u001b[0m\u001b[1;33m\u001b[0m\u001b[1;33m\u001b[0m\u001b[0m\n\u001b[0m\u001b[0;32m     22\u001b[0m         \u001b[0mquarto\u001b[0m\u001b[1;33m.\u001b[0m\u001b[0mappend\u001b[0m\u001b[1;33m(\u001b[0m\u001b[0mout2\u001b[0m\u001b[1;33m[\u001b[0m\u001b[0mi\u001b[0m\u001b[1;33m]\u001b[0m\u001b[1;33m)\u001b[0m                   \u001b[1;31m# o mesmo para a lista prices que recebera o price em out2\u001b[0m\u001b[1;33m\u001b[0m\u001b[1;33m\u001b[0m\u001b[0m\n\u001b[0;32m     23\u001b[0m         \u001b[0mvaga\u001b[0m\u001b[1;33m.\u001b[0m\u001b[0mappend\u001b[0m\u001b[1;33m(\u001b[0m\u001b[0mout3\u001b[0m\u001b[1;33m[\u001b[0m\u001b[0mi\u001b[0m\u001b[1;33m]\u001b[0m\u001b[1;33m)\u001b[0m\u001b[1;33m\u001b[0m\u001b[1;33m\u001b[0m\u001b[0m\n",
      "\u001b[1;31mIndexError\u001b[0m: list index out of range"
     ]
    }
   ],
   "source": [
    "# Foram criadas listas vazias que irão armazenar as informações obtidas em cada página\n",
    "#\n",
    "quarto =[] # lista com valores de quartos\n",
    "vaga =[] # lista com os valores de vaga\n",
    "banheiro =[] # lista com os valores de banheiro\n",
    "area_total =[] # lista com valores da area total\n",
    "area_util=[] # lista com valores de area util\n",
    "endereco=[] # lista de bairros\n",
    "price=[]\n",
    "\n",
    "# banheiro, quarto, vaga , endereco, price , area\n",
    "# out1       out2   out3   out4      out5    out6\n",
    "\n",
    "for page in range(1,201): # Ir da pagina 1 a 500\n",
    "    #out1, out2, out3, out4, out5, out6 = scrap_imovel_web(page) \n",
    "    out1 = scrap_imovel_web(page) # A função ira receber o numero da pagina e trazer informações de banheiro, conforme esta definido na função\n",
    "    #print(\"Banheiro:\", len(out1),\" Quarto:\", len(out2), \" Vaga:\", len(out3), \" endereco:\", len(out4), \"price:\", len(out5),\"area:\", len(out6))\n",
    "    \n",
    "    # Nesse caso ja sabemos que cada página deve ter 20 itens\n",
    "    for i in range(20):                   # out1, out2 e out3 se deu tudo certo, tem o mesmo tamanho, esse valor sera o range de iteração\n",
    "        banheiro.append(out1[i])                 # a lista hrefs recebera os href contido na posicao de indice 'i' na lista out1\n",
    "        quarto.append(out2[i])                   # o mesmo para a lista prices que recebera o price em out2\n",
    "        vaga.append(out3[i])\n",
    "        endereco.append(out4[i])\n",
    "        price.append(out5[i])\n",
    "                            \n",
    "    for n in range(0,len(out6),2):               # out6 tem 40 linhas, sendo pares igual area total e impares area util\n",
    "        area_total.append(out6[n][0:16])         # 0, 2, 4, 6, 8, 10,...\n",
    "        area_util.append(out6[n+1][0:16])        # 1, 3, 5, 7, 9, 11\n",
    "\n"
   ]
  },
  {
   "cell_type": "code",
   "execution_count": 9,
   "metadata": {
    "colab": {
     "base_uri": "https://localhost:8080/",
     "height": 34
    },
    "colab_type": "code",
    "id": "bw3mRjq0Gl4k",
    "outputId": "98a38398-f5a4-451c-f801-cd63a883ae20"
   },
   "outputs": [
    {
     "data": {
      "text/plain": [
       "0"
      ]
     },
     "execution_count": 9,
     "metadata": {},
     "output_type": "execute_result"
    }
   ],
   "source": [
    "len(banheiro)"
   ]
  },
  {
   "cell_type": "markdown",
   "metadata": {
    "colab_type": "text",
    "id": "I7WwO0AkTEQn"
   },
   "source": [
    "## Tentativa de trazer mais informações de cada vez\n",
    "### O total de informações deveria ser igual\n",
    "### 100 paginas, 20 linhas = 2000 linhas por item\n",
    "### Quarto - 2000\n",
    "### Vaga - 1735\n",
    "### Banheiro - 1989"
   ]
  },
  {
   "cell_type": "code",
   "execution_count": 10,
   "metadata": {
    "colab": {
     "base_uri": "https://localhost:8080/",
     "height": 641
    },
    "colab_type": "code",
    "id": "W0oObBpWR5z5",
    "outputId": "6b2625fa-0eb1-49e7-8d73-9041d6607b46"
   },
   "outputs": [
    {
     "name": "stdout",
     "output_type": "stream",
     "text": [
      "Pagina: 1\n",
      "https://www.imovelweb.com.br/apartamentos-venda-sao-paulo-sp-mais-de-1-banheiro-mais-de-1-vaga-de-10-a-20-anos-pagina-1.html\n",
      "Concluido\n"
     ]
    },
    {
     "ename": "ValueError",
     "evalue": "not enough values to unpack (expected 3, got 0)",
     "output_type": "error",
     "traceback": [
      "\u001b[1;31m---------------------------------------------------------------------------\u001b[0m",
      "\u001b[1;31mValueError\u001b[0m                                Traceback (most recent call last)",
      "\u001b[1;32m<ipython-input-10-122727761842>\u001b[0m in \u001b[0;36m<module>\u001b[1;34m\u001b[0m\n\u001b[0;32m     11\u001b[0m \u001b[1;33m\u001b[0m\u001b[0m\n\u001b[0;32m     12\u001b[0m \u001b[1;32mfor\u001b[0m \u001b[0mpage\u001b[0m \u001b[1;32min\u001b[0m \u001b[0mrange\u001b[0m\u001b[1;33m(\u001b[0m\u001b[1;36m1\u001b[0m\u001b[1;33m,\u001b[0m\u001b[1;36m10\u001b[0m\u001b[1;33m)\u001b[0m\u001b[1;33m:\u001b[0m\u001b[1;33m\u001b[0m\u001b[1;33m\u001b[0m\u001b[0m\n\u001b[1;32m---> 13\u001b[1;33m     \u001b[0mout1\u001b[0m\u001b[1;33m,\u001b[0m \u001b[0mout2\u001b[0m\u001b[1;33m,\u001b[0m \u001b[0mout3\u001b[0m \u001b[1;33m=\u001b[0m \u001b[0mscrap_imovel_web\u001b[0m\u001b[1;33m(\u001b[0m\u001b[0mpage\u001b[0m\u001b[1;33m)\u001b[0m\u001b[1;33m\u001b[0m\u001b[1;33m\u001b[0m\u001b[0m\n\u001b[0m\u001b[0;32m     14\u001b[0m     \u001b[0mprint\u001b[0m\u001b[1;33m(\u001b[0m\u001b[0mlen\u001b[0m\u001b[1;33m(\u001b[0m\u001b[0mout1\u001b[0m\u001b[1;33m)\u001b[0m\u001b[1;33m)\u001b[0m                          \u001b[1;31m# Verificando o número de linhas naquela página\u001b[0m\u001b[1;33m\u001b[0m\u001b[1;33m\u001b[0m\u001b[0m\n\u001b[0;32m     15\u001b[0m     \u001b[1;32mfor\u001b[0m \u001b[0mi\u001b[0m \u001b[1;32min\u001b[0m \u001b[0mrange\u001b[0m\u001b[1;33m(\u001b[0m\u001b[0mlen\u001b[0m\u001b[1;33m(\u001b[0m\u001b[0mout1\u001b[0m\u001b[1;33m)\u001b[0m\u001b[1;33m)\u001b[0m\u001b[1;33m:\u001b[0m\u001b[1;33m\u001b[0m\u001b[1;33m\u001b[0m\u001b[0m\n",
      "\u001b[1;31mValueError\u001b[0m: not enough values to unpack (expected 3, got 0)"
     ]
    }
   ],
   "source": [
    "quarto =[] # lista com valores de quartos\n",
    "vaga =[] # lista com os valores de vaga\n",
    "banheiro =[] # lista com os valores de banheiro\n",
    "area_total =[] # lista com valores da area total\n",
    "area_util=[] # lista com valores de area util\n",
    "endereco=[] # lista de bairros\n",
    "price=[]\n",
    "\n",
    "# quarto , vaga, banheiro, endereco price area\n",
    "# out1     out2  out3      out4     out5  out6\n",
    "\n",
    "for page in range(1,10):\n",
    "    out1, out2, out3 = scrap_imovel_web(page)\n",
    "    print(len(out1))                          # Verificando o número de linhas naquela página\n",
    "    for i in range(len(out1)):\n",
    "        banheiro.append(out1[i])\n",
    "        quarto.append(out2[i])\n",
    "        vaga.append(out3[i])\n"
   ]
  },
  {
   "cell_type": "code",
   "execution_count": 11,
   "metadata": {
    "colab": {
     "base_uri": "https://localhost:8080/",
     "height": 34
    },
    "colab_type": "code",
    "id": "le2ijSffnbp9",
    "outputId": "4df6424c-661a-4810-cbde-1467af451903"
   },
   "outputs": [
    {
     "name": "stdout",
     "output_type": "stream",
     "text": [
      "area_util: 0 area_total: 0 Quarto: 0 Banheiro: 0 Vaga: 0 Bairro: 0 Price: 0\n"
     ]
    }
   ],
   "source": [
    "print(\"area_util:\", len(area_util), \"area_total:\", len(area_total), \"Quarto:\", len(quarto), \"Banheiro:\", len(banheiro), \"Vaga:\", len(vaga), \"Bairro:\", len(endereco), \"Price:\", len(price))"
   ]
  },
  {
   "cell_type": "code",
   "execution_count": null,
   "metadata": {
    "colab": {},
    "colab_type": "code",
    "id": "D5inhbsqet3C"
   },
   "outputs": [],
   "source": []
  },
  {
   "cell_type": "markdown",
   "metadata": {
    "colab_type": "text",
    "id": "7E6p_utmezPW"
   },
   "source": [
    "## Gerando um dataframe\n",
    "### As listas geradas quando a função de scrap foi executada separadamente para\n",
    "### cada item, foram usadas para criar um dataframe com 4000 linhas de anúncios.\n",
    "### Foram coletados de 2000 páginas onde o scrap foi executado."
   ]
  },
  {
   "cell_type": "code",
   "execution_count": null,
   "metadata": {
    "colab": {
     "base_uri": "https://localhost:8080/",
     "height": 416
    },
    "colab_type": "code",
    "id": "ia2NyufIlGSq",
    "outputId": "45483017-0e33-4a35-b5f2-46eec200c454"
   },
   "outputs": [],
   "source": [
    "import pandas as pd\n",
    "data = { 'area_total': area_total,\n",
    "         'area_util': area_util,\n",
    "         'quarto': quarto,\n",
    "          'banheiro': banheiro,\n",
    "          'vaga': vaga,\n",
    "          'bairro': endereco,\n",
    "         'price': price}\n",
    "\n",
    "#data = { 'price': price}         \n",
    "      \n",
    "df_vendas = pd.DataFrame(data, columns=['price', 'area_total', 'area_util', 'quarto', 'banheiro', 'vaga', 'bairro'])\n",
    "df_vendas"
   ]
  },
  {
   "cell_type": "code",
   "execution_count": null,
   "metadata": {
    "colab": {},
    "colab_type": "code",
    "id": "bQzw8QOtvENw"
   },
   "outputs": [],
   "source": [
    "df_vendas.to_csv(\"imovelweb_venda.csv\")"
   ]
  }
 ],
 "metadata": {
  "colab": {
   "collapsed_sections": [],
   "include_colab_link": true,
   "name": "Scrap_Imovel_venda.ipynb",
   "provenance": []
  },
  "kernelspec": {
   "display_name": "Python 3",
   "language": "python",
   "name": "python3"
  },
  "language_info": {
   "codemirror_mode": {
    "name": "ipython",
    "version": 3
   },
   "file_extension": ".py",
   "mimetype": "text/x-python",
   "name": "python",
   "nbconvert_exporter": "python",
   "pygments_lexer": "ipython3",
   "version": "3.7.4"
  }
 },
 "nbformat": 4,
 "nbformat_minor": 1
}
